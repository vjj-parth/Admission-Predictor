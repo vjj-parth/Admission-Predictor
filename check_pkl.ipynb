{
 "cells": [
  {
   "cell_type": "code",
   "execution_count": 1,
   "metadata": {},
   "outputs": [],
   "source": [
    "import pandas as pd"
   ]
  },
  {
   "cell_type": "code",
   "execution_count": 2,
   "metadata": {},
   "outputs": [
    {
     "data": {
      "text/plain": [
       "LinearRegression()"
      ]
     },
     "execution_count": 2,
     "metadata": {},
     "output_type": "execute_result"
    }
   ],
   "source": [
    "mymodel = pd.read_pickle('adm.pickle')\n",
    "mymodel"
   ]
  },
  {
   "cell_type": "code",
   "execution_count": 3,
   "metadata": {},
   "outputs": [
    {
     "name": "stdout",
     "output_type": "stream",
     "text": [
      "[0.70478397]\n"
     ]
    }
   ],
   "source": [
    "query_data = {  'GRE Score':[300],\n",
    "                'TOEFL Score':[100],\n",
    "                'University Rating':[4],\n",
    "                'SOP':[4],\n",
    "                'LOR ':[5],\n",
    "                'CGPA':[8.5],\n",
    "                'Research':[1]\n",
    "                }\n",
    "result = mymodel.predict(pd.DataFrame(query_data))\n",
    "print(result[0])"
   ]
  },
  {
   "cell_type": "code",
   "execution_count": null,
   "metadata": {},
   "outputs": [],
   "source": []
  }
 ],
 "metadata": {
  "kernelspec": {
   "display_name": "Python 3.9.12 ('base')",
   "language": "python",
   "name": "python3"
  },
  "language_info": {
   "codemirror_mode": {
    "name": "ipython",
    "version": 3
   },
   "file_extension": ".py",
   "mimetype": "text/x-python",
   "name": "python",
   "nbconvert_exporter": "python",
   "pygments_lexer": "ipython3",
   "version": "3.9.12"
  },
  "orig_nbformat": 4,
  "vscode": {
   "interpreter": {
    "hash": "9d7145ac079ffe9d15656a1e08230b2cbcf4be7a60af871e5b934c424fa38166"
   }
  }
 },
 "nbformat": 4,
 "nbformat_minor": 2
}
